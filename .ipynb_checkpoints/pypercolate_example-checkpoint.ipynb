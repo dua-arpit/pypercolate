{
 "cells": [
  {
   "cell_type": "code",
   "execution_count": null,
   "metadata": {},
   "outputs": [
    {
     "name": "stdout",
     "output_type": "stream",
     "text": [
      "Collecting imagesc\n",
      "  Using cached imagesc-0.2.1-py3-none-any.whl (15 kB)\n",
      "Collecting ismember\n",
      "  Using cached ismember-0.2.1-py3-none-any.whl (6.3 kB)\n",
      "Requirement already satisfied: pandas in /opt/sagemath-9.2/local/lib/python3.7/site-packages (from imagesc) (1.2.1)\n",
      "Requirement already satisfied: packaging in /opt/sagemath-9.2/local/lib/python3.7/site-packages (from imagesc) (18.0)\n",
      "Requirement already satisfied: matplotlib in /opt/sagemath-9.2/local/lib/python3.7/site-packages (from imagesc) (3.3.1)\n",
      "Requirement already satisfied: numpy in /opt/sagemath-9.2/local/lib/python3.7/site-packages (from imagesc) (1.19.1)\n",
      "Collecting d3heatmap\n",
      "  Using cached d3heatmap-0.1.7-py3-none-any.whl (203 kB)\n",
      "Collecting clusteval\n",
      "  Using cached clusteval-2.0.2-py3-none-any.whl (27 kB)\n",
      "Collecting sklearn\n",
      "  Using cached sklearn-0.0.tar.gz (1.1 kB)\n",
      "Requirement already satisfied: seaborn in /opt/sagemath-9.2/local/lib/python3.7/site-packages (from clusteval->d3heatmap->imagesc) (0.11.1)\n",
      "Collecting wget\n",
      "  Using cached wget-3.2.zip (10 kB)\n",
      "Collecting tqdm\n",
      "  Using cached tqdm-4.62.2-py2.py3-none-any.whl (76 kB)\n",
      "Requirement already satisfied: pillow>=6.2.0 in /opt/sagemath-9.2/local/lib/python3.7/site-packages (from matplotlib->imagesc) (7.2.0)\n",
      "Requirement already satisfied: kiwisolver>=1.0.1 in /opt/sagemath-9.2/local/lib/python3.7/site-packages (from matplotlib->imagesc) (1.0.1)\n",
      "Requirement already satisfied: certifi>=2020.06.20 in /opt/sagemath-9.2/local/lib/python3.7/site-packages (from matplotlib->imagesc) (2020.6.20)\n",
      "Requirement already satisfied: pyparsing!=2.0.4,!=2.1.2,!=2.1.6,>=2.0.3 in /opt/sagemath-9.2/local/lib/python3.7/site-packages (from matplotlib->imagesc) (2.3.0)\n",
      "Requirement already satisfied: python-dateutil>=2.1 in /opt/sagemath-9.2/local/lib/python3.7/site-packages (from matplotlib->imagesc) (2.8.1)\n",
      "Requirement already satisfied: cycler>=0.10 in /opt/sagemath-9.2/local/lib/python3.7/site-packages (from matplotlib->imagesc) (0.10.0)\n",
      "Requirement already satisfied: six in /opt/sagemath-9.2/local/lib/python3.7/site-packages (from cycler>=0.10->matplotlib->imagesc) (1.15.0)\n",
      "Requirement already satisfied: setuptools in /opt/sagemath-9.2/local/lib/python3.7/site-packages (from kiwisolver>=1.0.1->matplotlib->imagesc) (49.6.0)\n",
      "Requirement already satisfied: pytz>=2017.3 in /opt/sagemath-9.2/local/lib/python3.7/site-packages (from pandas->imagesc) (2020.1)\n",
      "Requirement already satisfied: scipy>=1.0 in /opt/sagemath-9.2/local/lib/python3.7/site-packages (from seaborn->clusteval->d3heatmap->imagesc) (1.5.2)\n",
      "Collecting scikit-learn\n",
      "  Using cached scikit-learn-0.24.2.tar.gz (7.5 MB)\n",
      "  Installing build dependencies ... \u001b[?25l-"
     ]
    }
   ],
   "source": [
    "import sys\n",
    "!{sys.executable} -m pip install imagesc\n"
   ]
  },
  {
   "cell_type": "code",
   "execution_count": 3,
   "metadata": {},
   "outputs": [
    {
     "data": {
      "image/png": "[encoded data removed]",
      "text/plain": [
       "<Figure size 432x288 with 1 Axes>"
      ]
     },
     "metadata": {
      "needs_background": "light"
     },
     "output_type": "display_data"
    }
   ],
   "source": [
    "from pylab import *\n",
    "L = 20\n",
    "p = 0.5\n",
    "z = rand(L,L)\n",
    "m = z<p\n",
    "imshow(m, origin='lower')\n",
    "show()\n"
   ]
  },
  {
   "cell_type": "code",
   "execution_count": 4,
   "metadata": {},
   "outputs": [],
   "source": [
    "p = linspace(0.35,1.0,100)\n",
    "nx = len(p)\n",
    "Pi = zeros(nx)\n",
    "N=100"
   ]
  },
  {
   "cell_type": "code",
   "execution_count": 7,
   "metadata": {},
   "outputs": [],
   "source": [
    "from scipy.ndimage import measurements\n",
    "lw,num = measurements.label(z)\n",
    "perc_x = intersect1d(lw[0,:],lw[-1,:])\n",
    "perc = perc_x[where(perc_x>0)]\n"
   ]
  },
  {
   "cell_type": "code",
   "execution_count": 13,
   "metadata": {},
   "outputs": [
    {
     "data": {
      "text/plain": [
       "Text(0, 0.5, '$\\\\Pi$')"
      ]
     },
     "execution_count": 13,
     "metadata": {},
     "output_type": "execute_result"
    },
    {
     "data": {
      "image/png": "[encoded data removed]",
      "text/plain": [
       "<Figure size 432x288 with 1 Axes>"
      ]
     },
     "metadata": {
      "needs_background": "light"
     },
     "output_type": "display_data"
    }
   ],
   "source": [
    "from pylab import *\n",
    "p = linspace(0.4,1.0,100)\n",
    "nx = len(p)\n",
    "Ni = zeros(nx)\n",
    "P = zeros(nx)\n",
    "N = 1000\n",
    "L = 100\n",
    "for i in range(N):\n",
    "    z = rand(L,L)\n",
    "    for ip in range(nx):\n",
    "        m = z<p[ip]\n",
    "        lw, num = measurements.label(m)\n",
    "        perc_x = intersect1d(lw[0,:],lw[-1,:])\n",
    "        perc = perc_x[where(perc_x>0)]\n",
    "        if (len(perc)>0):\n",
    "            Ni[ip] = Ni[ip] + 1\n",
    "            \n",
    "Pi = Ni/N\n",
    "plot(p,Pi)\n",
    "xlabel('$p$')\n",
    "ylabel('$\\Pi$')\n"
   ]
  },
  {
   "cell_type": "code",
   "execution_count": 14,
   "metadata": {},
   "outputs": [
    {
     "name": "stderr",
     "output_type": "stream",
     "text": [
      "/opt/sagemath-9.2/local/lib/python3.7/site-packages/ipykernel_launcher.py:24: MatplotlibDeprecationWarning: Adding an axes using the same arguments as a previous axes currently reuses the earlier instance.  In a future version, a new instance will always be created and returned.  Meanwhile, this warning can be suppressed, and the future behavior ensured, by passing a unique label to each axes instance.\n"
     ]
    },
    {
     "data": {
      "text/plain": [
       "[<matplotlib.lines.Line2D at 0x6ffff985c310>]"
      ]
     },
     "execution_count": 14,
     "metadata": {},
     "output_type": "execute_result"
    },
    {
     "data": {
      "image/png": "[encoded data removed]",
      "text/plain": [
       "<Figure size 432x288 with 2 Axes>"
      ]
     },
     "metadata": {
      "needs_background": "light"
     },
     "output_type": "display_data"
    }
   ],
   "source": [
    "from pylab import *\n",
    "from scipy.ndimage import measurements\n",
    "p = linspace(0.4,1.0,100)\n",
    "nx = len(p)\n",
    "Ni = zeros(nx)\n",
    "P = zeros(nx)\n",
    "N = 1000\n",
    "L = 100\n",
    "for i in range(N):\n",
    "    z = rand(L,L)\n",
    "    for ip in range(nx):\n",
    "        m = z<p[ip]\n",
    "        lw, num = measurements.label(m)\n",
    "        perc_x = intersect1d(lw[0,:],lw[-1,:])\n",
    "        perc = perc_x[where(perc_x>0)]\n",
    "        if (len(perc)>0):\n",
    "            Ni[ip] = Ni[ip] + 1\n",
    "            area = measurements.sum(m, lw, perc[0])\n",
    "            P[ip] = P[ip] + area\n",
    "Pi = Ni/N\n",
    "P = P/(N*L*L)\n",
    "subplot(2,1,1)\n",
    "plot(p,Pi)\n",
    "subplot(2,1,1)\n",
    "plot(p,Pi)\n",
    "subplot(2,1,2)\n",
    "plot(p,P)"
   ]
  },
  {
   "cell_type": "code",
   "execution_count": null,
   "metadata": {},
   "outputs": [],
   "source": [
    "import numpy as np\n",
    "\n",
    "def test():\n",
    "    pList = np.arange(50) / 50.0\n",
    "    N = 16\n",
    "    trials = 1000\n",
    "\n",
    "    a = lattice(16)\n",
    "\n",
    "    results = []\n",
    "\n",
    "    for p in pList:\n",
    "        a.p = p\n",
    "        percolating = 0\n",
    "        for t in range(trials):\n",
    "            a.generate()\n",
    "            a.analyze()\n",
    "            if len(a.percolators) > 0: percolating += 1\n",
    "        results.append(percolating)\n",
    "\n",
    "    return (pList, results)\n",
    "\n",
    "\n",
    "class lattice(object):\n",
    "    def __init__(self, N=16, p=0.5):\n",
    "        self.N = N\n",
    "        self.clusters = np.zeros((N, N), int)\n",
    "        self.numclusters = 0\n",
    "        self.p = p\n",
    "        self.percolators = []\n",
    "        self.sizes = []\n",
    "\n",
    "    def generate(self):\n",
    "        N = self.N\n",
    "        self.clusters[:,:] = 0\n",
    "        clusters = self.clusters\n",
    "        clusteruid = int(0)\n",
    "        self.uids = []\n",
    "        uids = self.uids\n",
    "        rightbonds = np.random.rand(N, N) < self.p\n",
    "        downbonds = np.random.rand(N, N) < self.p\n",
    "\n",
    "#        for index, thiscluster in np.ndenumerate(self.clusters):\n",
    "#            if thiscluster == 0:\n",
    "#                clustercount += 1\n",
    "#                thiscluster = clustercount\n",
    "#                self.clusters[index] = thiscluster\n",
    "#            if index[0] < N - 1 and down[index]:\n",
    "#                self.clusters[index[0] + 1, index[1]] = thiscluster\n",
    "#            if index[1] < N - 1 and right[index]:\n",
    "#                self.clusters[index[0], index[1] + 1] = thiscluster\n",
    "        \n",
    "        for row in range(N):\n",
    "            for col in range(N):\n",
    "                right = (row, col + 1)\n",
    "                down = (row + 1, col)\n",
    "                clusterID = clusters[row, col]\n",
    "\n",
    "                if clusterID == 0:\n",
    "                    ## new cluster\n",
    "                    clusteruid += 1\n",
    "                    clusterID = clusteruid\n",
    "                    clusters[row,col] = clusterID\n",
    "                    uids.append(clusterID)\n",
    "\n",
    "                if col < N - 1 and rightbonds[row,col]:\n",
    "                    if clusters[right] == 0:\n",
    "                        ## nothing to the right\n",
    "                        clusters[right] = clusterID\n",
    "                    elif clusterID != clusters[right]:\n",
    "                        ## different cluster found to right\n",
    "                        existingcluster = clusters[right]\n",
    "                        clusters[clusters == clusterID] = existingcluster\n",
    "                        uids.remove(clusterID)\n",
    "                        clusterID = existingcluster\n",
    "                if row < N - 1 and downbonds[row, col]:\n",
    "                    self.clusters[down] = clusterID\n",
    "\n",
    "        self.numclusters = len(uids)\n",
    "        self.analyze()\n",
    "\n",
    "\n",
    "    def analyze(self):\n",
    "        self.sizes, null = np.histogram(self.clusters, \n",
    "                                        bins=range(self.numclusters))\n",
    "        north = self.clusters[0, :]\n",
    "        south = self.clusters[self.N - 1, :]\n",
    "        west = self.clusters[:, 0]\n",
    "        east = self.clusters[:, self.N - 1]\n",
    "        self.percolators = []\n",
    "        for cluster in self.uids:\n",
    "            if ((cluster in north and cluster in south)\n",
    "                or (cluster in west and cluster in east)):\n",
    "                self.percolators.append(cluster)"
   ]
  },
  {
   "cell_type": "code",
   "execution_count": 16,
   "metadata": {},
   "outputs": [
    {
     "ename": "AttributeError",
     "evalue": "'Graph' object has no attribute 'node'",
     "output_type": "error",
     "traceback": [
      "\u001b[0;31m---------------------------------------------------------------------------\u001b[0m",
      "\u001b[0;31mAttributeError\u001b[0m                            Traceback (most recent call last)",
      "\u001b[0;32m<ipython-input-16-c4cc1f2d0fb0>\u001b[0m in \u001b[0;36m<module>\u001b[0;34m\u001b[0m\n\u001b[1;32m      1\u001b[0m \u001b[0;32mimport\u001b[0m \u001b[0mpercolate\u001b[0m\u001b[0;34m\u001b[0m\u001b[0;34m\u001b[0m\u001b[0m\n\u001b[0;32m----> 2\u001b[0;31m \u001b[0mgrid\u001b[0m \u001b[0;34m=\u001b[0m \u001b[0mpercolate\u001b[0m\u001b[0;34m.\u001b[0m\u001b[0mspanning_2d_grid\u001b[0m\u001b[0;34m(\u001b[0m\u001b[0;36m3\u001b[0m\u001b[0;34m)\u001b[0m\u001b[0;34m\u001b[0m\u001b[0;34m\u001b[0m\u001b[0m\n\u001b[0m",
      "\u001b[0;32m/opt/sagemath-9.2/local/lib/python3.7/site-packages/percolate/percolate.py\u001b[0m in \u001b[0;36mspanning_2d_grid\u001b[0;34m(length)\u001b[0m\n\u001b[1;32m    956\u001b[0m     \u001b[0;32mfor\u001b[0m \u001b[0mi\u001b[0m \u001b[0;32min\u001b[0m \u001b[0mrange\u001b[0m\u001b[0;34m(\u001b[0m\u001b[0mlength\u001b[0m\u001b[0;34m)\u001b[0m\u001b[0;34m:\u001b[0m\u001b[0;34m\u001b[0m\u001b[0;34m\u001b[0m\u001b[0m\n\u001b[1;32m    957\u001b[0m         \u001b[0;31m# side 0\u001b[0m\u001b[0;34m\u001b[0m\u001b[0;34m\u001b[0m\u001b[0;34m\u001b[0m\u001b[0m\n\u001b[0;32m--> 958\u001b[0;31m         \u001b[0mret\u001b[0m\u001b[0;34m.\u001b[0m\u001b[0mnode\u001b[0m\u001b[0;34m[\u001b[0m\u001b[0;34m(\u001b[0m\u001b[0;36m0\u001b[0m\u001b[0;34m,\u001b[0m \u001b[0mi\u001b[0m\u001b[0;34m)\u001b[0m\u001b[0;34m]\u001b[0m\u001b[0;34m[\u001b[0m\u001b[0;34m'span'\u001b[0m\u001b[0;34m]\u001b[0m \u001b[0;34m=\u001b[0m \u001b[0;36m0\u001b[0m\u001b[0;34m\u001b[0m\u001b[0;34m\u001b[0m\u001b[0m\n\u001b[0m\u001b[1;32m    959\u001b[0m         \u001b[0mret\u001b[0m\u001b[0;34m[\u001b[0m\u001b[0;34m(\u001b[0m\u001b[0;36m0\u001b[0m\u001b[0;34m,\u001b[0m \u001b[0mi\u001b[0m\u001b[0;34m)\u001b[0m\u001b[0;34m]\u001b[0m\u001b[0;34m[\u001b[0m\u001b[0;34m(\u001b[0m\u001b[0;36m1\u001b[0m\u001b[0;34m,\u001b[0m \u001b[0mi\u001b[0m\u001b[0;34m)\u001b[0m\u001b[0;34m]\u001b[0m\u001b[0;34m[\u001b[0m\u001b[0;34m'span'\u001b[0m\u001b[0;34m]\u001b[0m \u001b[0;34m=\u001b[0m \u001b[0;36m0\u001b[0m\u001b[0;34m\u001b[0m\u001b[0;34m\u001b[0m\u001b[0m\n\u001b[1;32m    960\u001b[0m \u001b[0;34m\u001b[0m\u001b[0m\n",
      "\u001b[0;31mAttributeError\u001b[0m: 'Graph' object has no attribute 'node'"
     ]
    }
   ],
   "source": [
    "import percolate\n",
    "grid = percolate.spanning_2d_grid(3)\n"
   ]
  },
  {
   "cell_type": "code",
   "execution_count": null,
   "metadata": {},
   "outputs": [],
   "source": []
  }
 ],
 "metadata": {
  "kernelspec": {
   "display_name": "Python 3",
   "language": "python",
   "name": "python3"
  },
  "language_info": {
   "codemirror_mode": {
    "name": "ipython",
    "version": 3
   },
   "file_extension": ".py",
   "mimetype": "text/x-python",
   "name": "python",
   "nbconvert_exporter": "python",
   "pygments_lexer": "ipython3",
   "version": "3.7.7"
  }
 },
 "nbformat": 4,
 "nbformat_minor": 4
}
